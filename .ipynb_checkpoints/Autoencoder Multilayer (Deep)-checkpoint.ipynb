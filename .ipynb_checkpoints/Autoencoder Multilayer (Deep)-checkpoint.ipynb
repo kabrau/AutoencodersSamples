{
 "cells": [
  {
   "cell_type": "code",
   "execution_count": 1,
   "metadata": {},
   "outputs": [
    {
     "name": "stderr",
     "output_type": "stream",
     "text": [
      "e:\\programdata\\anaconda3\\envs\\tensorflow\\lib\\site-packages\\h5py\\__init__.py:36: FutureWarning: Conversion of the second argument of issubdtype from `float` to `np.floating` is deprecated. In future, it will be treated as `np.float64 == np.dtype(float).type`.\n",
      "  from ._conv import register_converters as _register_converters\n",
      "Using TensorFlow backend.\n"
     ]
    }
   ],
   "source": [
    "from keras.layers import Input, Dense\n",
    "from keras.models import Model"
   ]
  },
  {
   "cell_type": "code",
   "execution_count": 2,
   "metadata": {},
   "outputs": [],
   "source": [
    "# this is the size of our encoded representations\n",
    "encoding_dim = 32  # 32 floats -> compression of factor 24.5, assuming the input is 784 floats"
   ]
  },
  {
   "cell_type": "code",
   "execution_count": 3,
   "metadata": {},
   "outputs": [],
   "source": [
    "input_img = Input(shape=(784,))\n",
    "encoded = Dense(128, activation='relu')(input_img)\n",
    "encoded = Dense(64, activation='relu')(encoded)\n",
    "encoded = Dense(32, activation='relu')(encoded)\n",
    "\n",
    "decoded = Dense(64, activation='relu')(encoded)\n",
    "decoded = Dense(128, activation='relu')(decoded)\n",
    "decoded = Dense(784, activation='sigmoid')(decoded)"
   ]
  },
  {
   "cell_type": "code",
   "execution_count": 4,
   "metadata": {},
   "outputs": [],
   "source": [
    "# this model maps an input to its reconstruction\n",
    "autoencoder = Model(input_img, decoded)"
   ]
  },
  {
   "cell_type": "code",
   "execution_count": 5,
   "metadata": {},
   "outputs": [],
   "source": [
    "# this model maps an input to its encoded representation\n",
    "encoder = Model(input_img, encoded)"
   ]
  },
  {
   "cell_type": "code",
   "execution_count": 6,
   "metadata": {},
   "outputs": [
    {
     "name": "stdout",
     "output_type": "stream",
     "text": [
      "_________________________________________________________________\n",
      "Layer (type)                 Output Shape              Param #   \n",
      "=================================================================\n",
      "input_1 (InputLayer)         (None, 784)               0         \n",
      "_________________________________________________________________\n",
      "dense_1 (Dense)              (None, 128)               100480    \n",
      "_________________________________________________________________\n",
      "dense_2 (Dense)              (None, 64)                8256      \n",
      "_________________________________________________________________\n",
      "dense_3 (Dense)              (None, 32)                2080      \n",
      "_________________________________________________________________\n",
      "dense_4 (Dense)              (None, 64)                2112      \n",
      "_________________________________________________________________\n",
      "dense_5 (Dense)              (None, 128)               8320      \n",
      "_________________________________________________________________\n",
      "dense_6 (Dense)              (None, 784)               101136    \n",
      "=================================================================\n",
      "Total params: 222,384\n",
      "Trainable params: 222,384\n",
      "Non-trainable params: 0\n",
      "_________________________________________________________________\n",
      "None\n",
      "_________________________________________________________________\n",
      "Layer (type)                 Output Shape              Param #   \n",
      "=================================================================\n",
      "input_1 (InputLayer)         (None, 784)               0         \n",
      "_________________________________________________________________\n",
      "dense_1 (Dense)              (None, 128)               100480    \n",
      "_________________________________________________________________\n",
      "dense_2 (Dense)              (None, 64)                8256      \n",
      "_________________________________________________________________\n",
      "dense_3 (Dense)              (None, 32)                2080      \n",
      "=================================================================\n",
      "Total params: 110,816\n",
      "Trainable params: 110,816\n",
      "Non-trainable params: 0\n",
      "_________________________________________________________________\n",
      "None\n",
      "_________________________________________________________________\n",
      "Layer (type)                 Output Shape              Param #   \n",
      "=================================================================\n",
      "input_2 (InputLayer)         (None, 32)                0         \n",
      "_________________________________________________________________\n",
      "dense_4 (Dense)              (None, 64)                2112      \n",
      "_________________________________________________________________\n",
      "dense_5 (Dense)              (None, 128)               8320      \n",
      "_________________________________________________________________\n",
      "dense_6 (Dense)              (None, 784)               101136    \n",
      "=================================================================\n",
      "Total params: 111,568\n",
      "Trainable params: 111,568\n",
      "Non-trainable params: 0\n",
      "_________________________________________________________________\n",
      "None\n"
     ]
    }
   ],
   "source": [
    "# create a placeholder for an encoded (32-dimensional) input\n",
    "encoded_input = Input(shape=(encoding_dim,))\n",
    "\n",
    "# retrieve the last layer of the autoencoder model\n",
    "decoder_layer3 = autoencoder.layers[-3]\n",
    "decoder_layer2 = autoencoder.layers[-2]\n",
    "decoder_layer1 = autoencoder.layers[-1]\n",
    "\n",
    "# create the decoder model\n",
    "decoder = Model(encoded_input, decoder_layer1(decoder_layer2(decoder_layer3(encoded_input))))\n",
    "\n",
    "print(autoencoder.summary())\n",
    "print(encoder.summary())\n",
    "print(decoder.summary())\n"
   ]
  },
  {
   "cell_type": "code",
   "execution_count": 7,
   "metadata": {},
   "outputs": [],
   "source": [
    "autoencoder.compile(optimizer='adadelta', loss='binary_crossentropy')"
   ]
  },
  {
   "cell_type": "code",
   "execution_count": 8,
   "metadata": {},
   "outputs": [
    {
     "name": "stdout",
     "output_type": "stream",
     "text": [
      "(60000, 784)\n",
      "(10000, 784)\n"
     ]
    }
   ],
   "source": [
    "from keras.datasets import mnist\n",
    "import numpy as np\n",
    "(x_train, _), (x_test, _) = mnist.load_data()\n",
    "\n",
    "\n",
    "x_train = x_train.astype('float32') / 255.\n",
    "x_test = x_test.astype('float32') / 255.\n",
    "x_train = x_train.reshape((len(x_train), np.prod(x_train.shape[1:])))\n",
    "x_test = x_test.reshape((len(x_test), np.prod(x_test.shape[1:])))\n",
    "print( x_train.shape )\n",
    "print( x_test.shape )"
   ]
  },
  {
   "cell_type": "code",
   "execution_count": 9,
   "metadata": {},
   "outputs": [
    {
     "name": "stdout",
     "output_type": "stream",
     "text": [
      "Train on 60000 samples, validate on 10000 samples\n",
      "Epoch 1/100\n",
      "60000/60000 [==============================] - 3s 45us/step - loss: 0.3509 - val_loss: 0.2628\n",
      "Epoch 2/100\n",
      "60000/60000 [==============================] - 1s 19us/step - loss: 0.2547 - val_loss: 0.2440\n",
      "Epoch 3/100\n",
      "60000/60000 [==============================] - 1s 19us/step - loss: 0.2329 - val_loss: 0.2236\n",
      "Epoch 4/100\n",
      "60000/60000 [==============================] - 1s 19us/step - loss: 0.2156 - val_loss: 0.2065\n",
      "Epoch 5/100\n",
      "60000/60000 [==============================] - 1s 24us/step - loss: 0.2012 - val_loss: 0.1970\n",
      "Epoch 6/100\n",
      "60000/60000 [==============================] - 1s 21us/step - loss: 0.1896 - val_loss: 0.1846\n",
      "Epoch 7/100\n",
      "60000/60000 [==============================] - 1s 20us/step - loss: 0.1826 - val_loss: 0.1806\n",
      "Epoch 8/100\n",
      "60000/60000 [==============================] - 1s 18us/step - loss: 0.1768 - val_loss: 0.1728\n",
      "Epoch 9/100\n",
      "60000/60000 [==============================] - 1s 19us/step - loss: 0.1713 - val_loss: 0.1680\n",
      "Epoch 10/100\n",
      "60000/60000 [==============================] - 1s 19us/step - loss: 0.1658 - val_loss: 0.1623\n",
      "Epoch 11/100\n",
      "60000/60000 [==============================] - 1s 18us/step - loss: 0.1610 - val_loss: 0.1580\n",
      "Epoch 12/100\n",
      "60000/60000 [==============================] - 1s 19us/step - loss: 0.1569 - val_loss: 0.1539\n",
      "Epoch 13/100\n",
      "60000/60000 [==============================] - 1s 19us/step - loss: 0.1536 - val_loss: 0.1501\n",
      "Epoch 14/100\n",
      "60000/60000 [==============================] - 1s 19us/step - loss: 0.1504 - val_loss: 0.1471\n",
      "Epoch 15/100\n",
      "60000/60000 [==============================] - 1s 21us/step - loss: 0.1478 - val_loss: 0.1449\n",
      "Epoch 16/100\n",
      "60000/60000 [==============================] - 1s 20us/step - loss: 0.1455 - val_loss: 0.1428\n",
      "Epoch 17/100\n",
      "60000/60000 [==============================] - 1s 21us/step - loss: 0.1437 - val_loss: 0.1412\n",
      "Epoch 18/100\n",
      "60000/60000 [==============================] - 1s 20us/step - loss: 0.1421 - val_loss: 0.1392\n",
      "Epoch 19/100\n",
      "60000/60000 [==============================] - 1s 19us/step - loss: 0.1402 - val_loss: 0.1392\n",
      "Epoch 20/100\n",
      "60000/60000 [==============================] - 1s 19us/step - loss: 0.1383 - val_loss: 0.1374\n",
      "Epoch 21/100\n",
      "60000/60000 [==============================] - 1s 20us/step - loss: 0.1364 - val_loss: 0.1333\n",
      "Epoch 22/100\n",
      "60000/60000 [==============================] - 1s 20us/step - loss: 0.1350 - val_loss: 0.1325\n",
      "Epoch 23/100\n",
      "60000/60000 [==============================] - 1s 19us/step - loss: 0.1336 - val_loss: 0.1311\n",
      "Epoch 24/100\n",
      "60000/60000 [==============================] - 1s 19us/step - loss: 0.1324 - val_loss: 0.1287\n",
      "Epoch 25/100\n",
      "60000/60000 [==============================] - 1s 19us/step - loss: 0.1312 - val_loss: 0.1294\n",
      "Epoch 26/100\n",
      "60000/60000 [==============================] - 1s 19us/step - loss: 0.1303 - val_loss: 0.1284\n",
      "Epoch 27/100\n",
      "60000/60000 [==============================] - 1s 19us/step - loss: 0.1293 - val_loss: 0.1275\n",
      "Epoch 28/100\n",
      "60000/60000 [==============================] - 1s 19us/step - loss: 0.1282 - val_loss: 0.1259\n",
      "Epoch 29/100\n",
      "60000/60000 [==============================] - 1s 19us/step - loss: 0.1273 - val_loss: 0.1249\n",
      "Epoch 30/100\n",
      "60000/60000 [==============================] - 1s 19us/step - loss: 0.1264 - val_loss: 0.1270\n",
      "Epoch 31/100\n",
      "60000/60000 [==============================] - 1s 19us/step - loss: 0.1255 - val_loss: 0.1247\n",
      "Epoch 32/100\n",
      "60000/60000 [==============================] - 1s 19us/step - loss: 0.1246 - val_loss: 0.1234\n",
      "Epoch 33/100\n",
      "60000/60000 [==============================] - 1s 19us/step - loss: 0.1238 - val_loss: 0.1209\n",
      "Epoch 34/100\n",
      "60000/60000 [==============================] - 1s 19us/step - loss: 0.1231 - val_loss: 0.1219\n",
      "Epoch 35/100\n",
      "60000/60000 [==============================] - 1s 19us/step - loss: 0.1222 - val_loss: 0.1202\n",
      "Epoch 36/100\n",
      "60000/60000 [==============================] - 1s 19us/step - loss: 0.1212 - val_loss: 0.1204\n",
      "Epoch 37/100\n",
      "60000/60000 [==============================] - 1s 19us/step - loss: 0.1205 - val_loss: 0.1185\n",
      "Epoch 38/100\n",
      "60000/60000 [==============================] - 1s 19us/step - loss: 0.1197 - val_loss: 0.1193\n",
      "Epoch 39/100\n",
      "60000/60000 [==============================] - 1s 19us/step - loss: 0.1190 - val_loss: 0.1161\n",
      "Epoch 40/100\n",
      "60000/60000 [==============================] - 1s 19us/step - loss: 0.1182 - val_loss: 0.1170\n",
      "Epoch 41/100\n",
      "60000/60000 [==============================] - 1s 19us/step - loss: 0.1177 - val_loss: 0.1164\n",
      "Epoch 42/100\n",
      "60000/60000 [==============================] - 1s 19us/step - loss: 0.1171 - val_loss: 0.1153\n",
      "Epoch 43/100\n",
      "60000/60000 [==============================] - 1s 19us/step - loss: 0.1165 - val_loss: 0.1149\n",
      "Epoch 44/100\n",
      "60000/60000 [==============================] - 1s 19us/step - loss: 0.1159 - val_loss: 0.1126\n",
      "Epoch 45/100\n",
      "60000/60000 [==============================] - 1s 19us/step - loss: 0.1153 - val_loss: 0.1138\n",
      "Epoch 46/100\n",
      "60000/60000 [==============================] - 1s 19us/step - loss: 0.1150 - val_loss: 0.1137\n",
      "Epoch 47/100\n",
      "60000/60000 [==============================] - 1s 20us/step - loss: 0.1144 - val_loss: 0.1115\n",
      "Epoch 48/100\n",
      "60000/60000 [==============================] - 1s 19us/step - loss: 0.1140 - val_loss: 0.1127\n",
      "Epoch 49/100\n",
      "60000/60000 [==============================] - 1s 19us/step - loss: 0.1135 - val_loss: 0.1111\n",
      "Epoch 50/100\n",
      "60000/60000 [==============================] - 1s 19us/step - loss: 0.1131 - val_loss: 0.1108\n",
      "Epoch 51/100\n",
      "60000/60000 [==============================] - 1s 20us/step - loss: 0.1127 - val_loss: 0.1122\n",
      "Epoch 52/100\n",
      "60000/60000 [==============================] - 1s 19us/step - loss: 0.1123 - val_loss: 0.1123\n",
      "Epoch 53/100\n",
      "60000/60000 [==============================] - 1s 19us/step - loss: 0.1120 - val_loss: 0.1105\n",
      "Epoch 54/100\n",
      "60000/60000 [==============================] - 1s 19us/step - loss: 0.1114 - val_loss: 0.1092\n",
      "Epoch 55/100\n",
      "60000/60000 [==============================] - 1s 21us/step - loss: 0.1110 - val_loss: 0.1088\n",
      "Epoch 56/100\n",
      "60000/60000 [==============================] - 1s 19us/step - loss: 0.1106 - val_loss: 0.1103\n",
      "Epoch 57/100\n",
      "60000/60000 [==============================] - 1s 19us/step - loss: 0.1102 - val_loss: 0.1090\n",
      "Epoch 58/100\n",
      "60000/60000 [==============================] - 1s 19us/step - loss: 0.1097 - val_loss: 0.1084\n",
      "Epoch 59/100\n",
      "60000/60000 [==============================] - 1s 19us/step - loss: 0.1094 - val_loss: 0.1080\n",
      "Epoch 60/100\n",
      "60000/60000 [==============================] - 1s 19us/step - loss: 0.1089 - val_loss: 0.1067\n",
      "Epoch 61/100\n",
      "60000/60000 [==============================] - 1s 19us/step - loss: 0.1086 - val_loss: 0.1091\n",
      "Epoch 62/100\n",
      "60000/60000 [==============================] - 1s 19us/step - loss: 0.1083 - val_loss: 0.1076\n",
      "Epoch 63/100\n",
      "60000/60000 [==============================] - 1s 19us/step - loss: 0.1078 - val_loss: 0.1062\n",
      "Epoch 64/100\n",
      "60000/60000 [==============================] - 1s 19us/step - loss: 0.1076 - val_loss: 0.1055\n",
      "Epoch 65/100\n",
      "60000/60000 [==============================] - 1s 19us/step - loss: 0.1073 - val_loss: 0.1070\n",
      "Epoch 66/100\n",
      "60000/60000 [==============================] - 1s 19us/step - loss: 0.1070 - val_loss: 0.1063\n",
      "Epoch 67/100\n",
      "60000/60000 [==============================] - 1s 19us/step - loss: 0.1065 - val_loss: 0.1058\n",
      "Epoch 68/100\n",
      "60000/60000 [==============================] - 1s 19us/step - loss: 0.1063 - val_loss: 0.1046\n",
      "Epoch 69/100\n",
      "60000/60000 [==============================] - 1s 19us/step - loss: 0.1059 - val_loss: 0.1050\n",
      "Epoch 70/100\n",
      "60000/60000 [==============================] - 1s 19us/step - loss: 0.1059 - val_loss: 0.1065\n",
      "Epoch 71/100\n",
      "60000/60000 [==============================] - 1s 19us/step - loss: 0.1055 - val_loss: 0.1049\n",
      "Epoch 72/100\n",
      "60000/60000 [==============================] - 1s 19us/step - loss: 0.1053 - val_loss: 0.1041\n",
      "Epoch 73/100\n",
      "60000/60000 [==============================] - 1s 19us/step - loss: 0.1049 - val_loss: 0.1053\n",
      "Epoch 74/100\n",
      "60000/60000 [==============================] - 1s 19us/step - loss: 0.1046 - val_loss: 0.1033\n",
      "Epoch 75/100\n",
      "60000/60000 [==============================] - 1s 19us/step - loss: 0.1045 - val_loss: 0.1039\n",
      "Epoch 76/100\n",
      "60000/60000 [==============================] - 1s 19us/step - loss: 0.1042 - val_loss: 0.1032\n",
      "Epoch 77/100\n"
     ]
    },
    {
     "name": "stdout",
     "output_type": "stream",
     "text": [
      "60000/60000 [==============================] - 1s 18us/step - loss: 0.1040 - val_loss: 0.1015\n",
      "Epoch 78/100\n",
      "60000/60000 [==============================] - 1s 18us/step - loss: 0.1038 - val_loss: 0.1022\n",
      "Epoch 79/100\n",
      "60000/60000 [==============================] - 1s 18us/step - loss: 0.1035 - val_loss: 0.1045\n",
      "Epoch 80/100\n",
      "60000/60000 [==============================] - 1s 19us/step - loss: 0.1033 - val_loss: 0.1035\n",
      "Epoch 81/100\n",
      "60000/60000 [==============================] - 1s 18us/step - loss: 0.1031 - val_loss: 0.1031\n",
      "Epoch 82/100\n",
      "60000/60000 [==============================] - 1s 18us/step - loss: 0.1029 - val_loss: 0.1015\n",
      "Epoch 83/100\n",
      "60000/60000 [==============================] - 1s 19us/step - loss: 0.1028 - val_loss: 0.1018\n",
      "Epoch 84/100\n",
      "60000/60000 [==============================] - 1s 20us/step - loss: 0.1025 - val_loss: 0.1013\n",
      "Epoch 85/100\n",
      "60000/60000 [==============================] - 1s 19us/step - loss: 0.1023 - val_loss: 0.1027\n",
      "Epoch 86/100\n",
      "60000/60000 [==============================] - 1s 18us/step - loss: 0.1022 - val_loss: 0.1015\n",
      "Epoch 87/100\n",
      "60000/60000 [==============================] - 1s 18us/step - loss: 0.1021 - val_loss: 0.1005\n",
      "Epoch 88/100\n",
      "60000/60000 [==============================] - 1s 19us/step - loss: 0.1018 - val_loss: 0.1004\n",
      "Epoch 89/100\n",
      "60000/60000 [==============================] - 1s 19us/step - loss: 0.1018 - val_loss: 0.1005\n",
      "Epoch 90/100\n",
      "60000/60000 [==============================] - 1s 19us/step - loss: 0.1015 - val_loss: 0.0991\n",
      "Epoch 91/100\n",
      "60000/60000 [==============================] - 1s 18us/step - loss: 0.1013 - val_loss: 0.1000\n",
      "Epoch 92/100\n",
      "60000/60000 [==============================] - 1s 19us/step - loss: 0.1013 - val_loss: 0.1006\n",
      "Epoch 93/100\n",
      "60000/60000 [==============================] - 1s 19us/step - loss: 0.1011 - val_loss: 0.0993\n",
      "Epoch 94/100\n",
      "60000/60000 [==============================] - 1s 19us/step - loss: 0.1009 - val_loss: 0.0991\n",
      "Epoch 95/100\n",
      "60000/60000 [==============================] - 1s 19us/step - loss: 0.1008 - val_loss: 0.1018\n",
      "Epoch 96/100\n",
      "60000/60000 [==============================] - 1s 19us/step - loss: 0.1007 - val_loss: 0.0991\n",
      "Epoch 97/100\n",
      "60000/60000 [==============================] - 1s 18us/step - loss: 0.1006 - val_loss: 0.1023\n",
      "Epoch 98/100\n",
      "60000/60000 [==============================] - 1s 19us/step - loss: 0.1004 - val_loss: 0.0992\n",
      "Epoch 99/100\n",
      "60000/60000 [==============================] - 1s 19us/step - loss: 0.1002 - val_loss: 0.0990\n",
      "Epoch 100/100\n",
      "60000/60000 [==============================] - 1s 18us/step - loss: 0.1002 - val_loss: 0.0995\n"
     ]
    },
    {
     "data": {
      "text/plain": [
       "<keras.callbacks.History at 0x1e2f1e9af98>"
      ]
     },
     "execution_count": 9,
     "metadata": {},
     "output_type": "execute_result"
    }
   ],
   "source": [
    "autoencoder.fit(x_train, x_train,\n",
    "                epochs=100,\n",
    "                batch_size=256,\n",
    "                shuffle=True,\n",
    "                validation_data=(x_test, x_test))"
   ]
  },
  {
   "cell_type": "code",
   "execution_count": 10,
   "metadata": {},
   "outputs": [],
   "source": [
    "# encode and decode some digits\n",
    "# note that we take them from the *test* set\n",
    "encoded_imgs = encoder.predict(x_test)\n",
    "decoded_imgs = decoder.predict(encoded_imgs)"
   ]
  },
  {
   "cell_type": "code",
   "execution_count": 13,
   "metadata": {},
   "outputs": [
    {
     "data": {
      "image/png": "[encoded data removed]",
      "text/plain": [
       "<matplotlib.figure.Figure at 0x1e50742a898>"
      ]
     },
     "metadata": {},
     "output_type": "display_data"
    }
   ],
   "source": [
    "%matplotlib inline\n",
    "# use Matplotlib (don't ask)\n",
    "import matplotlib.pyplot as plt\n",
    "\n",
    "n = 10  # how many digits we will display\n",
    "plt.figure(figsize=(20, 4))\n",
    "for i in range(n):\n",
    "    # display original\n",
    "    ax = plt.subplot(3, n, i + 1)\n",
    "    plt.imshow(x_test[i].reshape(28, 28))\n",
    "    plt.gray()\n",
    "    ax.get_xaxis().set_visible(False)\n",
    "    ax.get_yaxis().set_visible(False)\n",
    "    \n",
    "    \n",
    "    # plot encoded image\n",
    "    ax = plt.subplot(3, n, n + i + 1)\n",
    "    plt.imshow(encoded_imgs[i].reshape(8, 4))\n",
    "    plt.gray()\n",
    "    ax.get_xaxis().set_visible(False)\n",
    "    ax.get_yaxis().set_visible(False)\n",
    "    \n",
    "\n",
    "    # display reconstruction\n",
    "    ax = plt.subplot(3, n, 2*n + i + 1)\n",
    "    plt.imshow(decoded_imgs[i].reshape(28, 28))\n",
    "    plt.gray()\n",
    "    ax.get_xaxis().set_visible(False)\n",
    "    ax.get_yaxis().set_visible(False)\n",
    "plt.show()"
   ]
  },
  {
   "cell_type": "code",
   "execution_count": 14,
   "metadata": {},
   "outputs": [
    {
     "name": "stdout",
     "output_type": "stream",
     "text": [
      "(32,)\n",
      "(784,)\n",
      "(784,)\n"
     ]
    }
   ],
   "source": [
    "print(encoded_imgs[0].shape)\n",
    "print(decoded_imgs[0].shape)\n",
    "print(x_test[0].shape)"
   ]
  },
  {
   "cell_type": "code",
   "execution_count": 15,
   "metadata": {},
   "outputs": [
    {
     "name": "stdout",
     "output_type": "stream",
     "text": [
      "[ 5.321298    6.090298    7.2159443   2.4323244   2.8398867   6.3294215\n",
      "  5.990484    4.0148244   5.340697    1.5347437   9.673909    4.8165956\n",
      " 11.690606    2.3146718  11.207463    5.771134    3.7205992  12.38744\n",
      "  9.433611    5.7027326   2.189631    6.7305603   3.5875797  10.638768\n",
      "  8.046363    4.17686     1.3123032  12.114163    0.          0.8394849\n",
      "  3.3841205   0.29872626]\n"
     ]
    }
   ],
   "source": [
    "print(encoded_imgs[0])"
   ]
  },
  {
   "cell_type": "code",
   "execution_count": 16,
   "metadata": {},
   "outputs": [
    {
     "name": "stdout",
     "output_type": "stream",
     "text": [
      "5.1438465\n"
     ]
    }
   ],
   "source": [
    "print(encoded_imgs.mean())"
   ]
  },
  {
   "cell_type": "code",
   "execution_count": null,
   "metadata": {},
   "outputs": [],
   "source": []
  },
  {
   "cell_type": "code",
   "execution_count": null,
   "metadata": {},
   "outputs": [],
   "source": []
  }
 ],
 "metadata": {
  "kernelspec": {
   "display_name": "Python 3",
   "language": "python",
   "name": "python3"
  },
  "language_info": {
   "codemirror_mode": {
    "name": "ipython",
    "version": 3
   },
   "file_extension": ".py",
   "mimetype": "text/x-python",
   "name": "python",
   "nbconvert_exporter": "python",
   "pygments_lexer": "ipython3",
   "version": "3.5.4"
  }
 },
 "nbformat": 4,
 "nbformat_minor": 2
}
