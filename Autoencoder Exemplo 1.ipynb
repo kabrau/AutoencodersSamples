{
 "cells": [
  {
   "cell_type": "code",
   "execution_count": 1,
   "metadata": {},
   "outputs": [
    {
     "name": "stderr",
     "output_type": "stream",
     "text": [
      "e:\\programdata\\anaconda3\\envs\\tensorflow\\lib\\site-packages\\h5py\\__init__.py:36: FutureWarning: Conversion of the second argument of issubdtype from `float` to `np.floating` is deprecated. In future, it will be treated as `np.float64 == np.dtype(float).type`.\n",
      "  from ._conv import register_converters as _register_converters\n",
      "Using TensorFlow backend.\n"
     ]
    }
   ],
   "source": [
    "from keras.layers import Input, Dense\n",
    "from keras.models import Model"
   ]
  },
  {
   "cell_type": "code",
   "execution_count": 2,
   "metadata": {},
   "outputs": [],
   "source": [
    "# this is the size of our encoded representations\n",
    "encoding_dim = 32  # 32 floats -> compression of factor 24.5, assuming the input is 784 floats\n",
    "\n",
    "# this is our input placeholder\n",
    "input_img = Input(shape=(784,))\n",
    "# \"encoded\" is the encoded representation of the input\n",
    "encoded = Dense(encoding_dim, activation='relu')(input_img)\n",
    "# \"decoded\" is the lossy reconstruction of the input\n",
    "decoded = Dense(784, activation='sigmoid')(encoded)\n",
    "\n",
    "# this model maps an input to its reconstruction\n",
    "autoencoder = Model(input_img, decoded)"
   ]
  },
  {
   "cell_type": "code",
   "execution_count": 3,
   "metadata": {},
   "outputs": [],
   "source": [
    "# this model maps an input to its encoded representation\n",
    "encoder = Model(input_img, encoded)"
   ]
  },
  {
   "cell_type": "code",
   "execution_count": 4,
   "metadata": {},
   "outputs": [
    {
     "name": "stdout",
     "output_type": "stream",
     "text": [
      "[<keras.engine.topology.InputLayer object at 0x00000211A5F93710>, <keras.layers.core.Dense object at 0x00000211A5F936A0>, <keras.layers.core.Dense object at 0x00000211A5F93AC8>]\n",
      "<keras.layers.core.Dense object at 0x00000211A5F93AC8>\n"
     ]
    }
   ],
   "source": [
    "# create a placeholder for an encoded (32-dimensional) input\n",
    "encoded_input = Input(shape=(encoding_dim,))\n",
    "# retrieve the last layer of the autoencoder model\n",
    "decoder_layer = autoencoder.layers[-1]\n",
    "\n",
    "print(autoencoder.layers)\n",
    "print(autoencoder.layers[-1])\n",
    "\n",
    "# create the decoder model\n",
    "decoder = Model(encoded_input, decoder_layer(encoded_input))"
   ]
  },
  {
   "cell_type": "code",
   "execution_count": 5,
   "metadata": {},
   "outputs": [],
   "source": [
    "autoencoder.compile(optimizer='adadelta', loss='binary_crossentropy')"
   ]
  },
  {
   "cell_type": "code",
   "execution_count": 6,
   "metadata": {},
   "outputs": [
    {
     "name": "stdout",
     "output_type": "stream",
     "text": [
      "(60000, 784)\n",
      "(10000, 784)\n"
     ]
    }
   ],
   "source": [
    "from keras.datasets import mnist\n",
    "import numpy as np\n",
    "(x_train, _), (x_test, _) = mnist.load_data()\n",
    "\n",
    "\n",
    "x_train = x_train.astype('float32') / 255.\n",
    "x_test = x_test.astype('float32') / 255.\n",
    "x_train = x_train.reshape((len(x_train), np.prod(x_train.shape[1:])))\n",
    "x_test = x_test.reshape((len(x_test), np.prod(x_test.shape[1:])))\n",
    "print( x_train.shape )\n",
    "print( x_test.shape )"
   ]
  },
  {
   "cell_type": "code",
   "execution_count": 7,
   "metadata": {},
   "outputs": [
    {
     "name": "stdout",
     "output_type": "stream",
     "text": [
      "Train on 60000 samples, validate on 10000 samples\n",
      "Epoch 1/50\n",
      "60000/60000 [==============================] - 6s 96us/step - loss: 0.3486 - val_loss: 0.2711\n",
      "Epoch 2/50\n",
      "60000/60000 [==============================] - 1s 14us/step - loss: 0.2641 - val_loss: 0.2532\n",
      "Epoch 3/50\n",
      "60000/60000 [==============================] - 1s 14us/step - loss: 0.2417 - val_loss: 0.2284\n",
      "Epoch 4/50\n",
      "60000/60000 [==============================] - 1s 15us/step - loss: 0.2202 - val_loss: 0.2100\n",
      "Epoch 5/50\n",
      "60000/60000 [==============================] - 1s 14us/step - loss: 0.2047 - val_loss: 0.1970\n",
      "Epoch 6/50\n",
      "60000/60000 [==============================] - 1s 15us/step - loss: 0.1934 - val_loss: 0.1873\n",
      "Epoch 7/50\n",
      "60000/60000 [==============================] - 1s 15us/step - loss: 0.1847 - val_loss: 0.1794\n",
      "Epoch 8/50\n",
      "60000/60000 [==============================] - 1s 15us/step - loss: 0.1777 - val_loss: 0.1732\n",
      "Epoch 9/50\n",
      "60000/60000 [==============================] - 1s 20us/step - loss: 0.1719 - val_loss: 0.1678\n",
      "Epoch 10/50\n",
      "60000/60000 [==============================] - 1s 16us/step - loss: 0.1669 - val_loss: 0.1631\n",
      "Epoch 11/50\n",
      "60000/60000 [==============================] - 1s 17us/step - loss: 0.1624 - val_loss: 0.1588\n",
      "Epoch 12/50\n",
      "60000/60000 [==============================] - 1s 17us/step - loss: 0.1582 - val_loss: 0.1548\n",
      "Epoch 13/50\n",
      "60000/60000 [==============================] - 1s 15us/step - loss: 0.1544 - val_loss: 0.1512\n",
      "Epoch 14/50\n",
      "60000/60000 [==============================] - 1s 15us/step - loss: 0.1508 - val_loss: 0.1478\n",
      "Epoch 15/50\n",
      "60000/60000 [==============================] - 1s 15us/step - loss: 0.1475 - val_loss: 0.1445\n",
      "Epoch 16/50\n",
      "60000/60000 [==============================] - 1s 15us/step - loss: 0.1445 - val_loss: 0.1416\n",
      "Epoch 17/50\n",
      "60000/60000 [==============================] - 1s 18us/step - loss: 0.1416 - val_loss: 0.1390\n",
      "Epoch 18/50\n",
      "60000/60000 [==============================] - 1s 24us/step - loss: 0.1390 - val_loss: 0.1364\n",
      "Epoch 19/50\n",
      "60000/60000 [==============================] - 1s 21us/step - loss: 0.1366 - val_loss: 0.1341\n",
      "Epoch 20/50\n",
      "60000/60000 [==============================] - 1s 16us/step - loss: 0.1344 - val_loss: 0.1318\n",
      "Epoch 21/50\n",
      "60000/60000 [==============================] - 1s 15us/step - loss: 0.1323 - val_loss: 0.1298\n",
      "Epoch 22/50\n",
      "60000/60000 [==============================] - 1s 14us/step - loss: 0.1303 - val_loss: 0.1278\n",
      "Epoch 23/50\n",
      "60000/60000 [==============================] - 1s 14us/step - loss: 0.1284 - val_loss: 0.1260\n",
      "Epoch 24/50\n",
      "60000/60000 [==============================] - 1s 14us/step - loss: 0.1265 - val_loss: 0.1241\n",
      "Epoch 25/50\n",
      "60000/60000 [==============================] - 1s 14us/step - loss: 0.1247 - val_loss: 0.1224\n",
      "Epoch 26/50\n",
      "60000/60000 [==============================] - 1s 14us/step - loss: 0.1230 - val_loss: 0.1207\n",
      "Epoch 27/50\n",
      "60000/60000 [==============================] - 1s 15us/step - loss: 0.1214 - val_loss: 0.1190\n",
      "Epoch 28/50\n",
      "60000/60000 [==============================] - 1s 14us/step - loss: 0.1198 - val_loss: 0.1175\n",
      "Epoch 29/50\n",
      "60000/60000 [==============================] - 1s 15us/step - loss: 0.1184 - val_loss: 0.1161\n",
      "Epoch 30/50\n",
      "60000/60000 [==============================] - 1s 15us/step - loss: 0.1170 - val_loss: 0.1147\n",
      "Epoch 31/50\n",
      "60000/60000 [==============================] - 1s 14us/step - loss: 0.1157 - val_loss: 0.1135\n",
      "Epoch 32/50\n",
      "60000/60000 [==============================] - 1s 14us/step - loss: 0.1145 - val_loss: 0.1123\n",
      "Epoch 33/50\n",
      "60000/60000 [==============================] - 1s 14us/step - loss: 0.1134 - val_loss: 0.1112\n",
      "Epoch 34/50\n",
      "60000/60000 [==============================] - 1s 14us/step - loss: 0.1123 - val_loss: 0.1102\n",
      "Epoch 35/50\n",
      "60000/60000 [==============================] - 1s 14us/step - loss: 0.1114 - val_loss: 0.1093\n",
      "Epoch 36/50\n",
      "60000/60000 [==============================] - 1s 14us/step - loss: 0.1105 - val_loss: 0.1085\n",
      "Epoch 37/50\n",
      "60000/60000 [==============================] - 1s 14us/step - loss: 0.1097 - val_loss: 0.1076\n",
      "Epoch 38/50\n",
      "60000/60000 [==============================] - 1s 14us/step - loss: 0.1089 - val_loss: 0.1069\n",
      "Epoch 39/50\n",
      "60000/60000 [==============================] - 1s 14us/step - loss: 0.1082 - val_loss: 0.1062\n",
      "Epoch 40/50\n",
      "60000/60000 [==============================] - 1s 14us/step - loss: 0.1076 - val_loss: 0.1056\n",
      "Epoch 41/50\n",
      "60000/60000 [==============================] - 1s 14us/step - loss: 0.1069 - val_loss: 0.1050\n",
      "Epoch 42/50\n",
      "60000/60000 [==============================] - 1s 14us/step - loss: 0.1064 - val_loss: 0.1045\n",
      "Epoch 43/50\n",
      "60000/60000 [==============================] - 1s 16us/step - loss: 0.1059 - val_loss: 0.1040\n",
      "Epoch 44/50\n",
      "60000/60000 [==============================] - 1s 16us/step - loss: 0.1054 - val_loss: 0.1035\n",
      "Epoch 45/50\n",
      "60000/60000 [==============================] - 1s 16us/step - loss: 0.1049 - val_loss: 0.1031\n",
      "Epoch 46/50\n",
      "60000/60000 [==============================] - 1s 16us/step - loss: 0.1045 - val_loss: 0.1026\n",
      "Epoch 47/50\n",
      "60000/60000 [==============================] - 1s 15us/step - loss: 0.1041 - val_loss: 0.1022\n",
      "Epoch 48/50\n",
      "60000/60000 [==============================] - 1s 14us/step - loss: 0.1037 - val_loss: 0.1019\n",
      "Epoch 49/50\n",
      "60000/60000 [==============================] - 1s 15us/step - loss: 0.1034 - val_loss: 0.1016\n",
      "Epoch 50/50\n",
      "60000/60000 [==============================] - 1s 14us/step - loss: 0.1030 - val_loss: 0.1013\n"
     ]
    },
    {
     "data": {
      "text/plain": [
       "<keras.callbacks.History at 0x211918f9048>"
      ]
     },
     "execution_count": 7,
     "metadata": {},
     "output_type": "execute_result"
    }
   ],
   "source": [
    "autoencoder.fit(x_train, x_train,\n",
    "                epochs=50,\n",
    "                batch_size=256,\n",
    "                shuffle=True,\n",
    "                validation_data=(x_test, x_test))"
   ]
  },
  {
   "cell_type": "code",
   "execution_count": 8,
   "metadata": {},
   "outputs": [],
   "source": [
    "# encode and decode some digits\n",
    "# note that we take them from the *test* set\n",
    "encoded_imgs = encoder.predict(x_test)\n",
    "decoded_imgs = decoder.predict(encoded_imgs)"
   ]
  },
  {
   "cell_type": "code",
   "execution_count": 9,
   "metadata": {},
   "outputs": [
    {
     "data": {
      "image/png": "[encoded data removed]",
      "text/plain": [
       "<matplotlib.figure.Figure at 0x211a8cc7278>"
      ]
     },
     "metadata": {},
     "output_type": "display_data"
    }
   ],
   "source": [
    "%matplotlib inline\n",
    "# use Matplotlib (don't ask)\n",
    "import matplotlib.pyplot as plt\n",
    "\n",
    "n = 10  # how many digits we will display\n",
    "plt.figure(figsize=(20, 4))\n",
    "for i in range(n):\n",
    "    # display original\n",
    "    ax = plt.subplot(2, n, i + 1)\n",
    "    plt.imshow(x_test[i].reshape(28, 28))\n",
    "    plt.gray()\n",
    "    ax.get_xaxis().set_visible(False)\n",
    "    ax.get_yaxis().set_visible(False)\n",
    "\n",
    "    # display reconstruction\n",
    "    ax = plt.subplot(2, n, i + 1 + n)\n",
    "    plt.imshow(decoded_imgs[i].reshape(28, 28))\n",
    "    plt.gray()\n",
    "    ax.get_xaxis().set_visible(False)\n",
    "    ax.get_yaxis().set_visible(False)\n",
    "plt.show()"
   ]
  },
  {
   "cell_type": "code",
   "execution_count": 10,
   "metadata": {},
   "outputs": [
    {
     "name": "stdout",
     "output_type": "stream",
     "text": [
      "(32,)\n",
      "(784,)\n"
     ]
    }
   ],
   "source": [
    "print(encoded_imgs[0].shape)\n",
    "print(x_test[0].shape)"
   ]
  },
  {
   "cell_type": "code",
   "execution_count": 11,
   "metadata": {},
   "outputs": [
    {
     "name": "stdout",
     "output_type": "stream",
     "text": [
      "[ 1.6152387  3.8365889  4.32534    0.         0.         5.289687\n",
      "  1.0481155  2.476152   5.57485    8.557541   5.2032766  2.2832236\n",
      "  6.531291   3.8171186  7.126665   7.2530174  1.5801309  2.7958288\n",
      "  5.8410883  9.795509   0.         7.5489717  9.025557   5.972252\n",
      "  7.2176456 12.686979   4.9093556  6.7589335  2.902245   3.7885175\n",
      "  9.753432  17.902544 ]\n"
     ]
    }
   ],
   "source": [
    "print(encoded_imgs[0])"
   ]
  },
  {
   "cell_type": "code",
   "execution_count": 12,
   "metadata": {},
   "outputs": [
    {
     "name": "stdout",
     "output_type": "stream",
     "text": [
      "7.450764\n"
     ]
    }
   ],
   "source": [
    "print(encoded_imgs.mean())"
   ]
  },
  {
   "cell_type": "code",
   "execution_count": null,
   "metadata": {},
   "outputs": [],
   "source": []
  },
  {
   "cell_type": "code",
   "execution_count": null,
   "metadata": {},
   "outputs": [],
   "source": []
  }
 ],
 "metadata": {
  "kernelspec": {
   "display_name": "Python 3",
   "language": "python",
   "name": "python3"
  },
  "language_info": {
   "codemirror_mode": {
    "name": "ipython",
    "version": 3
   },
   "file_extension": ".py",
   "mimetype": "text/x-python",
   "name": "python",
   "nbconvert_exporter": "python",
   "pygments_lexer": "ipython3",
   "version": "3.5.4"
  }
 },
 "nbformat": 4,
 "nbformat_minor": 2
}
