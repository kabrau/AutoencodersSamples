{
 "cells": [
  {
   "cell_type": "code",
   "execution_count": 1,
   "metadata": {},
   "outputs": [
    {
     "name": "stderr",
     "output_type": "stream",
     "text": [
      "e:\\programdata\\anaconda3\\envs\\tensorflow\\lib\\site-packages\\h5py\\__init__.py:36: FutureWarning: Conversion of the second argument of issubdtype from `float` to `np.floating` is deprecated. In future, it will be treated as `np.float64 == np.dtype(float).type`.\n",
      "  from ._conv import register_converters as _register_converters\n",
      "Using TensorFlow backend.\n"
     ]
    }
   ],
   "source": [
    "from keras.layers import Input, Dense\n",
    "from keras.models import Model"
   ]
  },
  {
   "cell_type": "code",
   "execution_count": 2,
   "metadata": {},
   "outputs": [],
   "source": [
    "# this is the size of our encoded representations\n",
    "encoding_dim = 32  # 32 floats -> compression of factor 24.5, assuming the input is 784 floats\n",
    "\n",
    "# this is our input placeholder\n",
    "input_img = Input(shape=(784,))\n",
    "# \"encoded\" is the encoded representation of the input\n",
    "encoded = Dense(encoding_dim, activation='relu')(input_img)\n",
    "# \"decoded\" is the lossy reconstruction of the input\n",
    "decoded = Dense(784, activation='sigmoid')(encoded)\n",
    "\n",
    "# this model maps an input to its reconstruction\n",
    "autoencoder = Model(input_img, decoded)"
   ]
  },
  {
   "cell_type": "code",
   "execution_count": 3,
   "metadata": {},
   "outputs": [],
   "source": [
    "# this model maps an input to its encoded representation\n",
    "encoder = Model(input_img, encoded)"
   ]
  },
  {
   "cell_type": "code",
   "execution_count": 5,
   "metadata": {},
   "outputs": [
    {
     "name": "stdout",
     "output_type": "stream",
     "text": [
      "[<keras.engine.topology.InputLayer object at 0x000001D8B7AE55C0>, <keras.layers.core.Dense object at 0x000001D8B7AE5630>, <keras.layers.core.Dense object at 0x000001D8B7AE5C88>]\n",
      "<keras.layers.core.Dense object at 0x000001D8B7AE5C88>\n"
     ]
    }
   ],
   "source": [
    "# create a placeholder for an encoded (32-dimensional) input\n",
    "encoded_input = Input(shape=(encoding_dim,))\n",
    "# retrieve the last layer of the autoencoder model\n",
    "decoder_layer = autoencoder.layers[-1]\n",
    "\n",
    "print(autoencoder.layers)\n",
    "print(autoencoder.layers[-1])\n",
    "\n",
    "# create the decoder model\n",
    "decoder = Model(encoded_input, decoder_layer(encoded_input))"
   ]
  },
  {
   "cell_type": "code",
   "execution_count": 5,
   "metadata": {},
   "outputs": [],
   "source": [
    "autoencoder.compile(optimizer='adadelta', loss='binary_crossentropy')"
   ]
  },
  {
   "cell_type": "code",
   "execution_count": 6,
   "metadata": {},
   "outputs": [
    {
     "name": "stdout",
     "output_type": "stream",
     "text": [
      "(60000, 784)\n",
      "(10000, 784)\n"
     ]
    }
   ],
   "source": [
    "from keras.datasets import mnist\n",
    "import numpy as np\n",
    "(x_train, _), (x_test, _) = mnist.load_data()\n",
    "\n",
    "\n",
    "x_train = x_train.astype('float32') / 255.\n",
    "x_test = x_test.astype('float32') / 255.\n",
    "x_train = x_train.reshape((len(x_train), np.prod(x_train.shape[1:])))\n",
    "x_test = x_test.reshape((len(x_test), np.prod(x_test.shape[1:])))\n",
    "print( x_train.shape )\n",
    "print( x_test.shape )"
   ]
  },
  {
   "cell_type": "code",
   "execution_count": 7,
   "metadata": {},
   "outputs": [
    {
     "name": "stdout",
     "output_type": "stream",
     "text": [
      "Train on 60000 samples, validate on 10000 samples\n",
      "Epoch 1/50\n",
      "60000/60000 [==============================] - 2s 40us/step - loss: 0.3602 - val_loss: 0.2704\n",
      "Epoch 2/50\n",
      "60000/60000 [==============================] - 1s 14us/step - loss: 0.2630 - val_loss: 0.2519\n",
      "Epoch 3/50\n",
      "60000/60000 [==============================] - 1s 14us/step - loss: 0.2414 - val_loss: 0.2288\n",
      "Epoch 4/50\n",
      "60000/60000 [==============================] - 1s 14us/step - loss: 0.2215 - val_loss: 0.2119\n",
      "Epoch 5/50\n",
      "60000/60000 [==============================] - 1s 14us/step - loss: 0.2073 - val_loss: 0.2000\n",
      "Epoch 6/50\n",
      "60000/60000 [==============================] - 1s 15us/step - loss: 0.1969 - val_loss: 0.1910\n",
      "Epoch 7/50\n",
      "60000/60000 [==============================] - 1s 14us/step - loss: 0.1884 - val_loss: 0.1830\n",
      "Epoch 8/50\n",
      "60000/60000 [==============================] - 1s 14us/step - loss: 0.1811 - val_loss: 0.1762\n",
      "Epoch 9/50\n",
      "60000/60000 [==============================] - 1s 14us/step - loss: 0.1747 - val_loss: 0.1703\n",
      "Epoch 10/50\n",
      "60000/60000 [==============================] - 1s 13us/step - loss: 0.1692 - val_loss: 0.1652\n",
      "Epoch 11/50\n",
      "60000/60000 [==============================] - 1s 14us/step - loss: 0.1644 - val_loss: 0.1606\n",
      "Epoch 12/50\n",
      "60000/60000 [==============================] - 1s 13us/step - loss: 0.1601 - val_loss: 0.1565\n",
      "Epoch 13/50\n",
      "60000/60000 [==============================] - 1s 14us/step - loss: 0.1562 - val_loss: 0.1528\n",
      "Epoch 14/50\n",
      "60000/60000 [==============================] - 1s 14us/step - loss: 0.1527 - val_loss: 0.1494\n",
      "Epoch 15/50\n",
      "60000/60000 [==============================] - 1s 17us/step - loss: 0.1494 - val_loss: 0.1463\n",
      "Epoch 16/50\n",
      "60000/60000 [==============================] - 1s 14us/step - loss: 0.1464 - val_loss: 0.1434\n",
      "Epoch 17/50\n",
      "60000/60000 [==============================] - 1s 14us/step - loss: 0.1436 - val_loss: 0.1407\n",
      "Epoch 18/50\n",
      "60000/60000 [==============================] - 1s 14us/step - loss: 0.1410 - val_loss: 0.1381\n",
      "Epoch 19/50\n",
      "60000/60000 [==============================] - 1s 14us/step - loss: 0.1386 - val_loss: 0.1358\n",
      "Epoch 20/50\n",
      "60000/60000 [==============================] - 1s 13us/step - loss: 0.1362 - val_loss: 0.1334\n",
      "Epoch 21/50\n",
      "60000/60000 [==============================] - 1s 14us/step - loss: 0.1340 - val_loss: 0.1313\n",
      "Epoch 22/50\n",
      "60000/60000 [==============================] - 1s 14us/step - loss: 0.1319 - val_loss: 0.1292\n",
      "Epoch 23/50\n",
      "60000/60000 [==============================] - 1s 14us/step - loss: 0.1298 - val_loss: 0.1272\n",
      "Epoch 24/50\n",
      "60000/60000 [==============================] - 1s 13us/step - loss: 0.1278 - val_loss: 0.1252\n",
      "Epoch 25/50\n",
      "60000/60000 [==============================] - 1s 14us/step - loss: 0.1259 - val_loss: 0.1233\n",
      "Epoch 26/50\n",
      "60000/60000 [==============================] - 1s 14us/step - loss: 0.1241 - val_loss: 0.1216\n",
      "Epoch 27/50\n",
      "60000/60000 [==============================] - 1s 14us/step - loss: 0.1223 - val_loss: 0.1198\n",
      "Epoch 28/50\n",
      "60000/60000 [==============================] - 1s 14us/step - loss: 0.1207 - val_loss: 0.1183\n",
      "Epoch 29/50\n",
      "60000/60000 [==============================] - 1s 14us/step - loss: 0.1191 - val_loss: 0.1168\n",
      "Epoch 30/50\n",
      "60000/60000 [==============================] - 1s 14us/step - loss: 0.1176 - val_loss: 0.1153\n",
      "Epoch 31/50\n",
      "60000/60000 [==============================] - 1s 14us/step - loss: 0.1162 - val_loss: 0.1139\n",
      "Epoch 32/50\n",
      "60000/60000 [==============================] - 1s 14us/step - loss: 0.1149 - val_loss: 0.1126\n",
      "Epoch 33/50\n",
      "60000/60000 [==============================] - 1s 14us/step - loss: 0.1136 - val_loss: 0.1114\n",
      "Epoch 34/50\n",
      "60000/60000 [==============================] - 1s 14us/step - loss: 0.1124 - val_loss: 0.1102\n",
      "Epoch 35/50\n",
      "60000/60000 [==============================] - 1s 14us/step - loss: 0.1113 - val_loss: 0.1092\n",
      "Epoch 36/50\n",
      "60000/60000 [==============================] - 1s 14us/step - loss: 0.1103 - val_loss: 0.1082\n",
      "Epoch 37/50\n",
      "60000/60000 [==============================] - 1s 14us/step - loss: 0.1094 - val_loss: 0.1073\n",
      "Epoch 38/50\n",
      "60000/60000 [==============================] - 1s 14us/step - loss: 0.1085 - val_loss: 0.1064\n",
      "Epoch 39/50\n",
      "60000/60000 [==============================] - 1s 14us/step - loss: 0.1076 - val_loss: 0.1056\n",
      "Epoch 40/50\n",
      "60000/60000 [==============================] - 1s 14us/step - loss: 0.1069 - val_loss: 0.1049\n",
      "Epoch 41/50\n",
      "60000/60000 [==============================] - 1s 14us/step - loss: 0.1062 - val_loss: 0.1042\n",
      "Epoch 42/50\n",
      "60000/60000 [==============================] - 1s 14us/step - loss: 0.1055 - val_loss: 0.1036\n",
      "Epoch 43/50\n",
      "60000/60000 [==============================] - 1s 14us/step - loss: 0.1049 - val_loss: 0.1030\n",
      "Epoch 44/50\n",
      "60000/60000 [==============================] - 1s 14us/step - loss: 0.1043 - val_loss: 0.1025\n",
      "Epoch 45/50\n",
      "60000/60000 [==============================] - 1s 14us/step - loss: 0.1038 - val_loss: 0.1019\n",
      "Epoch 46/50\n",
      "60000/60000 [==============================] - 1s 14us/step - loss: 0.1033 - val_loss: 0.1014\n",
      "Epoch 47/50\n",
      "60000/60000 [==============================] - 1s 14us/step - loss: 0.1028 - val_loss: 0.1010\n",
      "Epoch 48/50\n",
      "60000/60000 [==============================] - 1s 14us/step - loss: 0.1024 - val_loss: 0.1006\n",
      "Epoch 49/50\n",
      "60000/60000 [==============================] - 1s 14us/step - loss: 0.1020 - val_loss: 0.1002\n",
      "Epoch 50/50\n",
      "60000/60000 [==============================] - 1s 14us/step - loss: 0.1016 - val_loss: 0.0999\n"
     ]
    },
    {
     "data": {
      "text/plain": [
       "<keras.callbacks.History at 0x1e30685f940>"
      ]
     },
     "execution_count": 7,
     "metadata": {},
     "output_type": "execute_result"
    }
   ],
   "source": [
    "autoencoder.fit(x_train, x_train,\n",
    "                epochs=50,\n",
    "                batch_size=256,\n",
    "                shuffle=True,\n",
    "                validation_data=(x_test, x_test))"
   ]
  },
  {
   "cell_type": "code",
   "execution_count": 8,
   "metadata": {},
   "outputs": [],
   "source": [
    "# encode and decode some digits\n",
    "# note that we take them from the *test* set\n",
    "encoded_imgs = encoder.predict(x_test)\n",
    "decoded_imgs = decoder.predict(encoded_imgs)"
   ]
  },
  {
   "cell_type": "code",
   "execution_count": 9,
   "metadata": {},
   "outputs": [
    {
     "data": {
      "image/png": "[encoded data removed]",
      "text/plain": [
       "<matplotlib.figure.Figure at 0x1e309532cf8>"
      ]
     },
     "metadata": {},
     "output_type": "display_data"
    }
   ],
   "source": [
    "%matplotlib inline\n",
    "# use Matplotlib (don't ask)\n",
    "import matplotlib.pyplot as plt\n",
    "\n",
    "n = 10  # how many digits we will display\n",
    "plt.figure(figsize=(20, 4))\n",
    "for i in range(n):\n",
    "    # display original\n",
    "    ax = plt.subplot(2, n, i + 1)\n",
    "    plt.imshow(x_test[i].reshape(28, 28))\n",
    "    plt.gray()\n",
    "    ax.get_xaxis().set_visible(False)\n",
    "    ax.get_yaxis().set_visible(False)\n",
    "\n",
    "    # display reconstruction\n",
    "    ax = plt.subplot(2, n, i + 1 + n)\n",
    "    plt.imshow(decoded_imgs[i].reshape(28, 28))\n",
    "    plt.gray()\n",
    "    ax.get_xaxis().set_visible(False)\n",
    "    ax.get_yaxis().set_visible(False)\n",
    "plt.show()"
   ]
  },
  {
   "cell_type": "code",
   "execution_count": 10,
   "metadata": {},
   "outputs": [
    {
     "name": "stdout",
     "output_type": "stream",
     "text": [
      "(32,)\n",
      "(784,)\n"
     ]
    }
   ],
   "source": [
    "print(encoded_imgs[0].shape)\n",
    "print(x_test[0].shape)"
   ]
  },
  {
   "cell_type": "code",
   "execution_count": 11,
   "metadata": {},
   "outputs": [
    {
     "name": "stdout",
     "output_type": "stream",
     "text": [
      "[ 3.443742   11.4028015   7.2177567   1.8701088   0.8488264   2.3071373\n",
      "  2.1149893  14.622052    5.6603117   8.627535    1.1557972   0.34811932\n",
      "  1.4675109   2.8599434   2.991473    3.6332967  10.713371    3.1235633\n",
      "  5.3546095   8.008589    7.6263933   3.433864    8.497998    3.1432033\n",
      "  8.477136    4.6386213   5.8549147   1.4156111  10.478257    4.9167886\n",
      " 11.005866    1.7154067 ]\n"
     ]
    }
   ],
   "source": [
    "print(encoded_imgs[0])"
   ]
  },
  {
   "cell_type": "code",
   "execution_count": 12,
   "metadata": {},
   "outputs": [
    {
     "name": "stdout",
     "output_type": "stream",
     "text": [
      "7.6421757\n"
     ]
    }
   ],
   "source": [
    "print(encoded_imgs.mean())"
   ]
  },
  {
   "cell_type": "code",
   "execution_count": null,
   "metadata": {},
   "outputs": [],
   "source": []
  },
  {
   "cell_type": "code",
   "execution_count": null,
   "metadata": {},
   "outputs": [],
   "source": []
  }
 ],
 "metadata": {
  "kernelspec": {
   "display_name": "Python 3",
   "language": "python",
   "name": "python3"
  },
  "language_info": {
   "codemirror_mode": {
    "name": "ipython",
    "version": 3
   },
   "file_extension": ".py",
   "mimetype": "text/x-python",
   "name": "python",
   "nbconvert_exporter": "python",
   "pygments_lexer": "ipython3",
   "version": "3.5.4"
  }
 },
 "nbformat": 4,
 "nbformat_minor": 2
}
